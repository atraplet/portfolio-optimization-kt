{
 "cells": [
  {
   "cell_type": "code",
   "metadata": {
    "collapsed": true,
    "ExecuteTime": {
     "end_time": "2024-07-31T19:51:56.230553Z",
     "start_time": "2024-07-31T19:51:55.547110Z"
    }
   },
   "source": [
    "@file:DependsOn(\"com.ustermetrics:ecos4j:2.0.0\")\n",
    "@file:DependsOn(\"com.ustermetrics:ecos4j-native:1.0.4-2.0.10\")\n",
    "@file:DependsOn(\"org.ejml:ejml-all:0.43.1\")"
   ],
   "outputs": [],
   "execution_count": 19
  },
  {
   "metadata": {
    "ExecuteTime": {
     "end_time": "2024-07-31T19:51:56.281555Z",
     "start_time": "2024-07-31T19:51:56.232557400Z"
    }
   },
   "cell_type": "code",
   "source": [
    "import com.ustermetrics.ecos4j.Model\n",
    "import com.ustermetrics.ecos4j.Parameters\n",
    "import com.ustermetrics.ecos4j.Status.OPTIMAL\n",
    "import org.ejml.data.DMatrixSparseCSC\n",
    "import org.ejml.dense.row.factory.DecompositionFactory_DDRM\n",
    "import org.ejml.ops.DConvertMatrixStruct\n",
    "import org.ejml.simple.SimpleMatrix"
   ],
   "outputs": [],
   "execution_count": 20
  },
  {
   "metadata": {
    "ExecuteTime": {
     "end_time": "2024-07-31T19:51:56.352555300Z",
     "start_time": "2024-07-31T19:51:56.284556900Z"
    }
   },
   "cell_type": "code",
   "source": "print(Model.version())",
   "outputs": [
    {
     "name": "stdout",
     "output_type": "stream",
     "text": [
      "2.0.10"
     ]
    }
   ],
   "execution_count": 21
  },
  {
   "metadata": {
    "ExecuteTime": {
     "end_time": "2024-07-31T19:51:56.438555500Z",
     "start_time": "2024-07-31T19:51:56.356559300Z"
    }
   },
   "cell_type": "code",
   "source": [
    "// Define portfolio optimization problem\n",
    "val mu = SimpleMatrix(doubleArrayOf(0.05, 0.06, 0.08, 0.06))\n",
    "val sigma = SimpleMatrix(\n",
    "    4, 4, true,\n",
    "    0.0225, 0.003, 0.015, 0.0225,\n",
    "    0.003, 0.04, 0.035, 0.024,\n",
    "    0.015, 0.035, 0.0625, 0.06,\n",
    "    0.0225, 0.024, 0.06, 0.09\n",
    ")\n",
    "val sigmaLimit = 0.2"
   ],
   "outputs": [],
   "execution_count": 22
  },
  {
   "metadata": {
    "ExecuteTime": {
     "end_time": "2024-07-31T19:51:56.493555500Z",
     "start_time": "2024-07-31T19:51:56.441557300Z"
    }
   },
   "cell_type": "code",
   "source": [
    "// Problem dimension\n",
    "val n = mu.getNumRows()"
   ],
   "outputs": [],
   "execution_count": 23
  },
  {
   "metadata": {
    "ExecuteTime": {
     "end_time": "2024-07-31T19:51:56.816570600Z",
     "start_time": "2024-07-31T19:51:56.495556300Z"
    }
   },
   "cell_type": "code",
   "source": [
    "// Compute Cholesky decomposition of sigma\n",
    "val chol = DecompositionFactory_DDRM.chol(n, true)\n",
    "if (!chol.decompose(sigma.getMatrix()))\n",
    "    throw IllegalStateException(\"Cholesky decomposition failed\")\n",
    "val upTriMat = SimpleMatrix.wrap(chol.getT(null)).transpose()\n",
    "// Define second-order cone program\n",
    "val cMat = mu.negative()\n",
    "    .concatRows(SimpleMatrix(1, 1))\n",
    "System.out.println(\"\\ncMat\")\n",
    "cMat.print()\n",
    "\n",
    "val aMat = SimpleMatrix.ones(1, n)\n",
    "    .concatColumns(SimpleMatrix(1, 1))\n",
    "System.out.println(\"\\naMat\")\n",
    "aMat.print()\n",
    "\n",
    "val bMat = SimpleMatrix.ones(1, 1)\n",
    "System.out.println(\"\\nbMat\")\n",
    "bMat.print()\n",
    "\n",
    "val gMatPosOrt = SimpleMatrix.identity(n)\n",
    "    .negative()\n",
    "    .concatColumns(SimpleMatrix(n, 1))\n",
    "    .concatRows(SimpleMatrix(1, n).concatColumns(SimpleMatrix.ones(1, 1)))\n",
    "val gMatSoc = SimpleMatrix(1, n)\n",
    "    .concatColumns(SimpleMatrix.filled(1, 1, -1.0))\n",
    "    .concatRows(upTriMat.negative().concatColumns(SimpleMatrix(n, 1)))\n",
    "val gMat = gMatPosOrt.concatRows(gMatSoc)\n",
    "System.out.println(\"\\ngMat\")\n",
    "gMat.print()\n",
    "\n",
    "val hMat = SimpleMatrix(2 * n + 2, 1)\n",
    "hMat.set(n, 0, sigmaLimit)\n",
    "System.out.println(\"\\nhMat\")\n",
    "hMat.print()"
   ],
   "outputs": [
    {
     "name": "stdout",
     "output_type": "stream",
     "text": [
      "\n",
      "cMat\r\n",
      "Type = DDRM , rows = 5 , cols = 1\r\n",
      "-.05       \r\n",
      "-.06       \r\n",
      "-.08       \r\n",
      "-.06       \r\n",
      " 0         \r\n",
      "\n",
      "aMat\r\n",
      "Type = DDRM , rows = 1 , cols = 5\r\n",
      " 1           1           1           1           0         \r\n",
      "\n",
      "bMat\r\n",
      "Type = DDRM , rows = 1 , cols = 1\r\n",
      " 1         \r\n",
      "\n",
      "gMat\r\n",
      "Type = DDRM , rows = 10 , cols = 5\r\n",
      "-1          -0          -0          -0           0         \r\n",
      "-0          -1          -0          -0           0         \r\n",
      "-0          -0          -1          -0           0         \r\n",
      "-0          -0          -0          -1           0         \r\n",
      " 0           0           0           0           1         \r\n",
      " 0           0           0           0          -1         \r\n",
      "-.15        -.02        -.1         -.15         0         \r\n",
      "-0          -.198997487 -.16583124  -.105528971  0         \r\n",
      "-0          -0          -.158113883 -.173925271  0         \r\n",
      "-0          -0          -0          -.161597142  0         \r\n",
      "\n",
      "hMat\r\n",
      "Type = DDRM , rows = 10 , cols = 1\r\n",
      " 0         \r\n",
      " 0         \r\n",
      " 0         \r\n",
      " 0         \r\n",
      " .2        \r\n",
      " 0         \r\n",
      " 0         \r\n",
      " 0         \r\n",
      " 0         \r\n",
      " 0         \r\n"
     ]
    }
   ],
   "execution_count": 24
  },
  {
   "metadata": {
    "ExecuteTime": {
     "end_time": "2024-07-31T19:51:56.957555600Z",
     "start_time": "2024-07-31T19:51:56.819555900Z"
    }
   },
   "cell_type": "code",
   "source": [
    "// ecos4j needs sparse aMat and gMat\n",
    "val tol = 1e-8\n",
    "val aSpMat = DConvertMatrixStruct.convert(aMat.getDDRM(), null as DMatrixSparseCSC?, tol)\n",
    "System.out.println(\"\\naSpMat\")\n",
    "aSpMat.print()\n",
    "\n",
    "val gSpMat = DConvertMatrixStruct.convert(gMat.getDDRM(), null as DMatrixSparseCSC?, tol)\n",
    "System.out.println(\"\\ngSpMat\")\n",
    "gSpMat.print()"
   ],
   "outputs": [
    {
     "name": "stdout",
     "output_type": "stream",
     "text": [
      "\n",
      "aSpMat\r\n",
      "Type = DSCC , rows = 1 , cols = 5 , nz_length = 4\r\n",
      " 1           1           1           1               *     \r\n",
      "\n",
      "gSpMat\r\n",
      "Type = DSCC , rows = 10 , cols = 5 , nz_length = 16\r\n",
      "-1               *           *           *           *     \r\n",
      "     *      -1               *           *           *     \r\n",
      "     *           *      -1               *           *     \r\n",
      "     *           *           *      -1               *     \r\n",
      "     *           *           *           *       1         \r\n",
      "     *           *           *           *      -1         \r\n",
      "-.15        -.02        -.1         -.15             *     \r\n",
      "     *      -.198997487 -.16583124  -.105528971      *     \r\n",
      "     *           *      -.158113883 -.173925271      *     \r\n",
      "     *           *           *      -.161597142      *     \r\n"
     ]
    }
   ],
   "execution_count": 25
  },
  {
   "metadata": {
    "ExecuteTime": {
     "end_time": "2024-07-31T19:51:57.063556100Z",
     "start_time": "2024-07-31T19:51:56.959554600Z"
    }
   },
   "cell_type": "code",
   "source": [
    "// Helper function\n",
    "fun toLongArray(arr: IntArray): LongArray {\n",
    "    return arr.map { it.toLong() }.toLongArray()\n",
    "}"
   ],
   "outputs": [],
   "execution_count": 26
  },
  {
   "metadata": {
    "ExecuteTime": {
     "end_time": "2024-07-31T19:51:57.285558800Z",
     "start_time": "2024-07-31T19:51:57.066555800Z"
    }
   },
   "cell_type": "code",
   "source": [
    "Model().use {\n",
    "    // Set up model\n",
    "    it.setup(\n",
    "        n + 1L, longArrayOf(n + 1L), 0, gSpMat.nz_values, toLongArray(gSpMat.col_idx),\n",
    "        toLongArray(gSpMat.nz_rows), cMat.getDDRM().data, hMat.getDDRM().data, aSpMat.nz_values,\n",
    "        toLongArray(aSpMat.col_idx), toLongArray(aSpMat.nz_rows), bMat.getDDRM().data\n",
    "    )\n",
    "\n",
    "    // Create and set parameters\n",
    "    val parameters = Parameters.builder()\n",
    "        .verbose(true)\n",
    "        .build()\n",
    "    it.setParameters(parameters)\n",
    "\n",
    "    // Optimize model\n",
    "    val status = it.optimize()\n",
    "    if (status != OPTIMAL)\n",
    "        throw IllegalStateException(\"Optimization failed\")\n",
    "\n",
    "    // Get solution\n",
    "    val xMat = SimpleMatrix(it.x())\n",
    "    System.out.println(\"xMat\")\n",
    "    xMat.print()\n",
    "}"
   ],
   "outputs": [
    {
     "name": "stdout",
     "output_type": "stream",
     "text": [
      "xMat\r\n",
      "Type = DDRM , rows = 5 , cols = 1\r\n",
      " .248790206\r\n",
      " .049684806\r\n",
      " .701524985\r\n",
      " 3.5308E-09\r\n",
      " .2        \r\n"
     ]
    }
   ],
   "execution_count": 27
  }
 ],
 "metadata": {
  "kernelspec": {
   "display_name": "Kotlin",
   "language": "kotlin",
   "name": "kotlin"
  },
  "language_info": {
   "name": "kotlin",
   "version": "1.9.23",
   "mimetype": "text/x-kotlin",
   "file_extension": ".kt",
   "pygments_lexer": "kotlin",
   "codemirror_mode": "text/x-kotlin",
   "nbconvert_exporter": ""
  }
 },
 "nbformat": 4,
 "nbformat_minor": 0
}
